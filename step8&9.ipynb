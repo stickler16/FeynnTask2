{
 "cells": [
  {
   "cell_type": "code",
   "execution_count": null,
   "id": "c6f91725",
   "metadata": {},
   "outputs": [],
   "source": [
    "import pandas as pd\n",
    "import numpy as np\n",
    "import matplotlib.pyplot as plt\n",
    "import seaborn as sns\n"
   ]
  },
  {
   "cell_type": "code",
   "execution_count": null,
   "id": "e9657c5b",
   "metadata": {},
   "outputs": [],
   "source": []
  },
  {
   "cell_type": "code",
   "execution_count": null,
   "id": "7962ae0b",
   "metadata": {},
   "outputs": [],
   "source": [
    "df = pd.read_csv('mcdonalds.csv')"
   ]
  },
  {
   "cell_type": "code",
   "execution_count": null,
   "id": "c6b8d1b9",
   "metadata": {},
   "outputs": [],
   "source": [
    "df.head()"
   ]
  },
  {
   "cell_type": "code",
   "execution_count": null,
   "id": "fcec1d4e",
   "metadata": {},
   "outputs": [],
   "source": [
    "df['Like'].unique()"
   ]
  },
  {
   "cell_type": "code",
   "execution_count": null,
   "id": "bd3ce77c",
   "metadata": {},
   "outputs": [],
   "source": [
    "#  df.pivot_table(index='Animal', columns='like', values='', aggfunc='mean')\n",
    "df.groupby(['VisitFrequency']).sum().unstack()"
   ]
  },
  {
   "cell_type": "code",
   "execution_count": null,
   "id": "a71e7aa3",
   "metadata": {},
   "outputs": [],
   "source": []
  },
  {
   "cell_type": "code",
   "execution_count": null,
   "id": "2b9ade07",
   "metadata": {},
   "outputs": [],
   "source": [
    "age_18_25 = df.Age [(df.Age >= 18 ) & (df.Age <= 25 )]\n",
    "age_26_35 = df.Age [(df.Age >= 26) & (df.Age <= 35 )]\n",
    "age_36_45 = df.Age [(df.Age >= 36 ) & (df.Age <= 45 )]\n",
    "age_46_55 = df.Age [(df.Age >= 46 ) & (df.Age <= 55 )]\n",
    "age_55above = df.Age[df.Age >= 56]\n",
    "\n",
    "agex = [\"18-25\" , \"26-35 \",\"36-45\", \"46-55\", \"55+\"]\n",
    "agey = [len (age_18_25.values),len (age_26_35.values),len (age_36_45.values),len (age_46_55.values),len(age_55above.values)]\n",
    "\n",
    "plt.figure(figsize=(15,6))\n",
    "sns.barplot(x=agex, y=agey, palette = \"mako\")\n",
    "plt.title(\"Number of Customer and Ages\")\n",
    "plt.xlabel(\"Age\")\n",
    "plt.ylabel(\"Number of Customer\")\n",
    "plt.show()"
   ]
  },
  {
   "cell_type": "code",
   "execution_count": null,
   "id": "57c9aff9",
   "metadata": {},
   "outputs": [],
   "source": [
    "X1 = df.loc[:, [\"Age\", \"VistFrequency\"]].values\n",
    "from sklearn.cluster import KMeans\n",
    "\n",
    "WCSS = []\n",
    "\n",
    "# Use k from 1 to 15\n",
    "K = range(1,15)\n",
    "for k in K:\n",
    "    km = KMeans(n_clusters=k, init='random', n_init=10, max_iter=500,  tol=1e-04, random_state=0)\n",
    "    km = km.fit(X)\n",
    "    # Get sum of square distances by applying km.inertia_ \n",
    "    Sum_of_squared_distances.append(km.inertia_)\n",
    "\n",
    "# Plot Results\n",
    "plt.plot(K, Sum_of_squared_distances, marker='o')\n",
    "plt.xlabel('k')\n",
    "plt.ylabel('WCSS')\n",
    "plt.title('Elbow Method For Optimal k')\n",
    "plt.show()"
   ]
  },
  {
   "cell_type": "code",
   "execution_count": null,
   "id": "bc7e5ed4",
   "metadata": {},
   "outputs": [],
   "source": [
    "kmeans = Kmeans (n_clusters = 4)\n",
    "\n",
    "label = kmeans.fit_predict(X1)\n",
    "\n",
    "print(label)"
   ]
  },
  {
   "cell_type": "code",
   "execution_count": null,
   "id": "ab7feb17",
   "metadata": {},
   "outputs": [],
   "source": [
    "plt.scatter (X1[:,0], X1[:,1] , c=kmeans.labels_, cmap= 'rainbow')\n",
    "plt.scatter(kmeans.cluster_centres_[:,0] , kmeans.cluster_centres_[:,1], color = 'black')\n",
    "plt.title('Clusters of Customers ')\n",
    "plt.xlabel('Age')\n",
    "plt.ylabel('VisitFrequency')\n",
    "plt.show()"
   ]
  }
 ],
 "metadata": {
  "kernelspec": {
   "display_name": "anpr",
   "language": "python",
   "name": "anpr"
  },
  "language_info": {
   "codemirror_mode": {
    "name": "ipython",
    "version": 3
   },
   "file_extension": ".py",
   "mimetype": "text/x-python",
   "name": "python",
   "nbconvert_exporter": "python",
   "pygments_lexer": "ipython3",
   "version": "3.8.2"
  }
 },
 "nbformat": 4,
 "nbformat_minor": 5
}
